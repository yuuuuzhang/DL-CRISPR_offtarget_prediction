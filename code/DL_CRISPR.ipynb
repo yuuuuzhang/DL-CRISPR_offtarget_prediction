{
 "cells": [
  {
   "cell_type": "code",
   "execution_count": 1,
   "metadata": {},
   "outputs": [
    {
     "name": "stderr",
     "output_type": "stream",
     "text": [
      "Using TensorFlow backend.\n"
     ]
    }
   ],
   "source": [
    "from dlcrispr_util import off_target_pred"
   ]
  },
  {
   "cell_type": "markdown",
   "metadata": {},
   "source": [
    "## off-target prediction"
   ]
  },
  {
   "cell_type": "code",
   "execution_count": 2,
   "metadata": {},
   "outputs": [
    {
     "name": "stdout",
     "output_type": "stream",
     "text": [
      "begin testing\n",
      "finish model\n",
      "finish model\n",
      "finish model\n",
      "finish model\n",
      "finish model\n",
      "finish model\n",
      "finish model\n",
      "finish model\n",
      "finish model\n",
      "finish model\n"
     ]
    }
   ],
   "source": [
    "datapath = '.../...' # specify the location\n",
    "inputfile = datapath+'input_example/test_pos.csv' # specify the inputfile location and name\n",
    "outputname = 'pred_results.csv'\n",
    "\n",
    "off_target_pred(datapath, inputfile, outputname)"
   ]
  },
  {
   "cell_type": "code",
   "execution_count": null,
   "metadata": {},
   "outputs": [],
   "source": []
  }
 ],
 "metadata": {
  "kernelspec": {
   "display_name": "Python 3",
   "language": "python",
   "name": "python3"
  },
  "language_info": {
   "codemirror_mode": {
    "name": "ipython",
    "version": 3
   },
   "file_extension": ".py",
   "mimetype": "text/x-python",
   "name": "python",
   "nbconvert_exporter": "python",
   "pygments_lexer": "ipython3",
   "version": "3.6.7"
  }
 },
 "nbformat": 4,
 "nbformat_minor": 2
}
